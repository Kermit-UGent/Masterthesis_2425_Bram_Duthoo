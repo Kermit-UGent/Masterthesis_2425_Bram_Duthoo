{
 "cells": [
  {
   "cell_type": "code",
   "execution_count": null,
   "metadata": {},
   "outputs": [
    {
     "name": "stderr",
     "output_type": "stream",
     "text": [
      "C:\\Users\\bramd_finhsgu\\AppData\\Local\\Temp\\ipykernel_22868\\1725524791.py:8: DeprecationWarning: Importing display from IPython.core.display is deprecated since IPython 7.14, please import from IPython.display\n",
      "  from IPython.core.display import display, HTML\n"
     ]
    },
    {
     "name": "stdout",
     "output_type": "stream",
     "text": [
      "Converting JSON to Parquet (this may take a moment)...\n",
      "Filtering data...\n",
      "\n",
      "Aantal rijen per food_id:\n",
      "Voor food_id 334 zijn er 51588 rijen in de dataset.\n",
      "Voor food_id 358 zijn er 49873 rijen in de dataset.\n",
      "Voor food_id 483 zijn er 51102 rijen in de dataset.\n",
      "Voor food_id 506 zijn er 138620 rijen in de dataset.\n",
      "Voor food_id 549 zijn er 101966 rijen in de dataset.\n"
     ]
    }
   ],
   "source": [
    "import pyarrow as pa\n",
    "import pyarrow.json as paj\n",
    "import pyarrow.parquet as pq\n",
    "import pyarrow.compute as pc\n",
    "import pandas as pd\n",
    "import json\n",
    "import numpy as np\n",
    "from IPython.core.display import display, HTML\n",
    "\n",
    "json_file_path = r\"C:\\Users\\bramd_finhsgu\\OneDrive - UGent\\Thesis\\Thesis_bestanden\\__MACOSX\\foodb_2020_04_07_json\\Content.json\"\n",
    "parquet_file_path = json_file_path.replace(\".json\", \".parquet\")\n",
    "food_ids = [334, 358, 483, 506, 549] #334 chicken, 358 mallard duck, 483 mutton, 506 beef, 541 domesticated pig\n",
    "food_ids_arrow = pa.array(food_ids, type=table.column(\"food_id\").type)\n",
    "columns_to_keep = [\n",
    "    \"id\", \"food_id\", \"orig_food_id\", \"orig_food_common_name\",\n",
    "    \"source_id\", \"orig_source_id\", \"orig_source_name\",\n",
    "    \"source_type\", \"orig_content\", \"orig_unit\"\n",
    "]\n",
    "\n",
    "print(\"Converting JSON to Parquet (this may take a moment)...\")\n",
    "table = paj.read_json(json_file_path)\n",
    "pq.write_table(table, parquet_file_path, compression=\"snappy\")\n",
    "\n",
    "print(\"Filtering data...\")\n",
    "table = pq.read_table(parquet_file_path)\n",
    "filtered_table = table.filter(pc.is_in(table[\"food_id\"], value_set=food_ids_arrow))\n",
    "foodb_meat = filtered_table.select(columns_to_keep).to_pandas()"
   ]
  },
  {
   "cell_type": "code",
   "execution_count": 57,
   "metadata": {},
   "outputs": [
    {
     "name": "stdout",
     "output_type": "stream",
     "text": [
      "\n",
      "Aantal rijen per food_id vóór en na filtering:\n",
      "Food ID 334: 51588 rijen initieel → 1715 rijen na filtering (3.32%)\n",
      "Food ID 358: 49873 rijen initieel → 0 rijen na filtering (0.00%)\n",
      "Food ID 483: 51102 rijen initieel → 1229 rijen na filtering (2.40%)\n",
      "Food ID 506: 138620 rijen initieel → 88746 rijen na filtering (64.02%)\n",
      "Food ID 549: 101966 rijen initieel → 52093 rijen na filtering (51.09%)\n",
      "\n",
      "In totaal waren er initieel 393149 rijen, maar na filtering blijven er slechts 143783 over. (36.57% resterend)\n",
      "\n",
      "\n",
      "Matrix van ontbrekende waarden en HMDB-aanwezigheid per food_id (%):\n",
      "                      Vóór filtering                                          Na filtering                                 \n",
      "food_id                          334    358         483        506        549          334         483       506        549\n",
      "id                          0.000000    0.0    0.000000   0.000000   0.000000     0.000000    0.000000  0.000000   0.000000\n",
      "food_id                     0.000000    0.0    0.000000   0.000000   0.000000     0.000000    0.000000  0.000000   0.000000\n",
      "orig_food_id               97.150500  100.0   98.150757  36.174434  48.919248    14.285714   23.108218  0.305366   0.015357\n",
      "orig_food_common_name       0.397379    0.0    0.555751   0.200548   0.007846    11.953353   23.108218  0.312127   0.015357\n",
      "source_id                   0.000000    0.0    0.000000   0.000000   0.000000     0.000000    0.000000  0.000000   0.000000\n",
      "orig_source_id            100.000000  100.0  100.000000  40.297937  57.576055   100.000000  100.000000  6.747346  16.960052\n",
      "orig_source_name          100.000000  100.0  100.000000  40.297937  57.576055   100.000000  100.000000  6.747346  16.960052\n",
      "source_type                 0.000000    0.0    0.000000   0.000000   0.000000     0.000000    0.000000  0.000000   0.000000\n",
      "orig_content               96.675583  100.0   97.595006  35.978935  48.911402     0.000000    0.000000  0.000000   0.000000\n",
      "orig_unit                  96.675583  100.0   97.595006  35.978935  48.911402     0.000000    0.000000  0.000000   0.000000\n",
      "% HMDB aanwezigheid        96.675583  100.0   97.595006  35.978214  48.911402     0.000000    0.000000  0.000000   0.000000\n"
     ]
    },
    {
     "name": "stderr",
     "output_type": "stream",
     "text": [
      "C:\\Users\\bramd_finhsgu\\AppData\\Local\\Temp\\ipykernel_22868\\2280550634.py:16: DeprecationWarning: DataFrameGroupBy.apply operated on the grouping columns. This behavior is deprecated, and in a future version of pandas the grouping columns will be excluded from the operation. Either pass `include_groups=False` to exclude the groupings or explicitly select the grouping columns after groupby to silence this warning.\n",
      "  missing_matrix = df.groupby(\"food_id\").apply(lambda x: x.isnull().mean() * 100).T\n",
      "C:\\Users\\bramd_finhsgu\\AppData\\Local\\Temp\\ipykernel_22868\\2280550634.py:16: DeprecationWarning: DataFrameGroupBy.apply operated on the grouping columns. This behavior is deprecated, and in a future version of pandas the grouping columns will be excluded from the operation. Either pass `include_groups=False` to exclude the groupings or explicitly select the grouping columns after groupby to silence this warning.\n",
      "  missing_matrix = df.groupby(\"food_id\").apply(lambda x: x.isnull().mean() * 100).T\n"
     ]
    }
   ],
   "source": [
    "foodb_meat_filtered = foodb_meat.dropna(subset=[\"orig_content\"]).reset_index(drop=True)\n",
    "\n",
    "counts_before = foodb_meat[\"food_id\"].value_counts().sort_index()\n",
    "counts_after = foodb_meat_filtered[\"food_id\"].value_counts().sort_index()\n",
    "\n",
    "print(\"\\nAantal rijen per food_id vóór en na filtering:\")\n",
    "for food_id in sorted(set(counts_before.index) | set(counts_after.index)):  \n",
    "    count_before = counts_before.get(food_id, 0)\n",
    "    count_after = counts_after.get(food_id, 0)\n",
    "    percentage_remaining = (count_after / count_before * 100) if count_before > 0 else 0\n",
    "    print(f\"Food ID {food_id}: {count_before} rijen initieel → {count_after} rijen na filtering ({percentage_remaining:.2f}%)\")\n",
    "\n",
    "print(f\"\\nIn totaal waren er initieel {len(foodb_meat)} rijen, maar na filtering blijven er slechts {len(foodb_meat_filtered)} over. ({(len(foodb_meat_filtered) / len(foodb_meat) * 100):.2f}% resterend)\\n\")\n",
    "\n",
    "def calculate_missing_matrix(df):\n",
    "    missing_matrix = df.groupby(\"food_id\").apply(lambda x: x.isnull().mean() * 100).T\n",
    "    hmdb_percentage = (\n",
    "        df.groupby(\"food_id\")[\"orig_food_common_name\"]\n",
    "        .apply(lambda x: (x == \"Endogenous compounds from human (HMDB)\").mean() * 100)\n",
    "    )\n",
    "    missing_matrix.loc[\"% HMDB aanwezigheid\"] = hmdb_percentage\n",
    "    return missing_matrix\n",
    "\n",
    "missing_matrix_before = calculate_missing_matrix(foodb_meat)\n",
    "missing_matrix_after = calculate_missing_matrix(foodb_meat_filtered)\n",
    "\n",
    "comparison_matrix = pd.concat([missing_matrix_before, missing_matrix_after], axis=1, keys=[\"Vóór filtering\", \"Na filtering\"])\n",
    "\n",
    "pd.set_option(\"display.width\", 200)  # Verhoogt de breedte van de output\n",
    "pd.set_option(\"display.max_columns\", None)  # Laat alle kolommen zien\n",
    "print(\"\\nMatrix van ontbrekende waarden en HMDB-aanwezigheid per food_id (%):\")\n",
    "print(comparison_matrix)\n"
   ]
  },
  {
   "cell_type": "code",
   "execution_count": 37,
   "metadata": {},
   "outputs": [
    {
     "name": "stdout",
     "output_type": "stream",
     "text": [
      "JSON-bestand geopend in VS Code voor food_id 358\n"
     ]
    }
   ],
   "source": [
    "import json\n",
    "import tempfile\n",
    "import os\n",
    "\n",
    "# Specificeer handmatig de food_id waarvoor je de data wilt bekijken\n",
    "selected_food_id = 358  # <-- Pas deze waarde aan\n",
    "\n",
    "# Filter de dataset op de geselecteerde food_id\n",
    "filtered_df = foodb_meat[foodb_meat[\"food_id\"] == selected_food_id]\n",
    "\n",
    "# Converteer de gefilterde DataFrame naar JSON\n",
    "json_data = filtered_df.to_dict(orient=\"records\")\n",
    "temp_json_path = os.path.join(tempfile.gettempdir(), \"temp_json_view.json\")\n",
    "\n",
    "# Schrijf de JSON, met elk object op een aparte regel\n",
    "with open(temp_json_path, \"w\", encoding=\"utf-8\") as f:\n",
    "    for record in json_data:\n",
    "        json.dump(record, f, separators=(',', ':'), ensure_ascii=False)\n",
    "        f.write(\"\\n\")  # Nieuwe regel voor elk object\n",
    "\n",
    "# Open bestand in VS Code\n",
    "os.system(f\"code {temp_json_path}\")\n",
    "\n",
    "print(f\"JSON-bestand geopend in VS Code voor food_id {selected_food_id}\")\n"
   ]
  }
 ],
 "metadata": {
  "kernelspec": {
   "display_name": "myenv",
   "language": "python",
   "name": "python3"
  },
  "language_info": {
   "codemirror_mode": {
    "name": "ipython",
    "version": 3
   },
   "file_extension": ".py",
   "mimetype": "text/x-python",
   "name": "python",
   "nbconvert_exporter": "python",
   "pygments_lexer": "ipython3",
   "version": "3.12.7"
  }
 },
 "nbformat": 4,
 "nbformat_minor": 2
}
